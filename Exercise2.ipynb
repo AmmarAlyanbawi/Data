{
  "nbformat": 4,
  "nbformat_minor": 0,
  "metadata": {
    "colab": {
      "provenance": []
    },
    "kernelspec": {
      "name": "python3",
      "display_name": "Python 3"
    },
    "language_info": {
      "name": "python"
    }
  },
  "cells": [
    {
      "cell_type": "code",
      "execution_count": 151,
      "metadata": {
        "colab": {
          "base_uri": "https://localhost:8080/"
        },
        "id": "wRGRDUk_I1lx",
        "outputId": "5d2b1690-0a51-4ca4-db0d-e7feabf233cc"
      },
      "outputs": [
        {
          "output_type": "execute_result",
          "data": {
            "text/plain": [
              "{'doc0': 'Last month Cloud Speech introduced a new word-level timestamps feature',\n",
              " 'doc1': 'audio transcriptions now include the start and end timestamp for each word',\n",
              " 'doc2': 'This opens up tons of possibilities',\n",
              " 'doc3': 'developers can now skip to the exact moment in an audio file where a word was spoken',\n",
              " 'doc4': ', display the relevant text while audio is playing, or search a library of audio for a specific term'}"
            ]
          },
          "metadata": {},
          "execution_count": 151
        }
      ],
      "source": [
        "d0 = \"Last month Cloud Speech introduced a new word-level timestamps feature\"\n",
        "d1 = \"audio transcriptions now include the start and end timestamp for each word\"\n",
        "d2 = \"This opens up tons of possibilities\"\n",
        "d3 = \"developers can now skip to the exact moment in an audio file where a word was spoken\"\n",
        "d4 = \", display the relevant text while audio is playing, or search a library of audio for a specific term\"\n",
        "\n",
        "collection = {\"doc0\": d0,\n",
        "\"doc1\": d1,\n",
        "\"doc2\": d2,\n",
        "\"doc3\": d3,\n",
        "\"doc4\": d4}\n",
        "collection\n",
        "\n"
      ]
    },
    {
      "cell_type": "code",
      "source": [
        "boolean_operators = {'AND', 'OR', 'NOT'}"
      ],
      "metadata": {
        "id": "26eFBs1OI72f"
      },
      "execution_count": 152,
      "outputs": []
    },
    {
      "cell_type": "code",
      "source": [
        "def get_terms (data):\n",
        "    terms=[]\n",
        "    for doc in data:\n",
        "        for term in data[doc].split() :\n",
        "            terms.append(term)\n",
        "    return terms"
      ],
      "metadata": {
        "id": "ezdtQ8atLF6w"
      },
      "execution_count": 153,
      "outputs": []
    },
    {
      "cell_type": "code",
      "source": [
        "def get_unique_terms(terms):\n",
        "    unique_terms=[]\n",
        "    for d in terms :\n",
        "        if d not in unique_terms:\n",
        "            unique_terms.append(d)\n",
        "    return unique_terms"
      ],
      "metadata": {
        "id": "gY3MRLiILJbA"
      },
      "execution_count": 154,
      "outputs": []
    },
    {
      "cell_type": "code",
      "source": [
        "def get_document_collection_terms(data):\n",
        "    docs_colllection={}\n",
        "    for doc in data:\n",
        "        if doc not in boolean_operators :\n",
        "            docs_colllection[doc]=get_unique_terms(data[doc].split())\n",
        "    return docs_colllection"
      ],
      "metadata": {
        "id": "QZPMAdf1LMco"
      },
      "execution_count": 155,
      "outputs": []
    },
    {
      "cell_type": "code",
      "source": [
        "def display_dict(dic):\n",
        "    print(\"\\n\")\n",
        "    for i in dic:\n",
        "        print (i , \" : \" ,dic[i])\n",
        "    print(\"\\n\")"
      ],
      "metadata": {
        "id": "pNYq5cPLLQAf"
      },
      "execution_count": 156,
      "outputs": []
    },
    {
      "cell_type": "code",
      "source": [
        "print(\"### documents content ###\")\n",
        "display_dict(collection)"
      ],
      "metadata": {
        "colab": {
          "base_uri": "https://localhost:8080/"
        },
        "id": "P_avishxLSyn",
        "outputId": "166466ca-5eda-4238-c471-43909bffb491"
      },
      "execution_count": 157,
      "outputs": [
        {
          "output_type": "stream",
          "name": "stdout",
          "text": [
            "### documents content ###\n",
            "\n",
            "\n",
            "doc0  :  Last month Cloud Speech introduced a new word-level timestamps feature\n",
            "doc1  :  audio transcriptions now include the start and end timestamp for each word\n",
            "doc2  :  This opens up tons of possibilities\n",
            "doc3  :  developers can now skip to the exact moment in an audio file where a word was spoken\n",
            "doc4  :  , display the relevant text while audio is playing, or search a library of audio for a specific term\n",
            "\n",
            "\n"
          ]
        }
      ]
    },
    {
      "cell_type": "code",
      "source": [
        "print (\"\\n### Terms in all docs ###\\n\" , *get_terms(collection) ,sep= \" \\n \")"
      ],
      "metadata": {
        "colab": {
          "base_uri": "https://localhost:8080/"
        },
        "id": "btwmAz38LVAK",
        "outputId": "1110db41-69c5-4829-eedc-0c184cd69e85"
      },
      "execution_count": 158,
      "outputs": [
        {
          "output_type": "stream",
          "name": "stdout",
          "text": [
            "\n",
            "### Terms in all docs ###\n",
            " \n",
            " Last \n",
            " month \n",
            " Cloud \n",
            " Speech \n",
            " introduced \n",
            " a \n",
            " new \n",
            " word-level \n",
            " timestamps \n",
            " feature \n",
            " audio \n",
            " transcriptions \n",
            " now \n",
            " include \n",
            " the \n",
            " start \n",
            " and \n",
            " end \n",
            " timestamp \n",
            " for \n",
            " each \n",
            " word \n",
            " This \n",
            " opens \n",
            " up \n",
            " tons \n",
            " of \n",
            " possibilities \n",
            " developers \n",
            " can \n",
            " now \n",
            " skip \n",
            " to \n",
            " the \n",
            " exact \n",
            " moment \n",
            " in \n",
            " an \n",
            " audio \n",
            " file \n",
            " where \n",
            " a \n",
            " word \n",
            " was \n",
            " spoken \n",
            " , \n",
            " display \n",
            " the \n",
            " relevant \n",
            " text \n",
            " while \n",
            " audio \n",
            " is \n",
            " playing, \n",
            " or \n",
            " search \n",
            " a \n",
            " library \n",
            " of \n",
            " audio \n",
            " for \n",
            " a \n",
            " specific \n",
            " term\n"
          ]
        }
      ]
    },
    {
      "cell_type": "code",
      "source": [
        "terms=get_terms(collection)\n",
        "print (\"\\n### Unique Terms in 5 DOCs###\\n\", *get_unique_terms(terms) ,sep=\" | \")"
      ],
      "metadata": {
        "colab": {
          "base_uri": "https://localhost:8080/"
        },
        "id": "TrEUz_NGLX7x",
        "outputId": "acc7d0bd-547f-44b8-bbbf-d9aef1a57ac4"
      },
      "execution_count": 159,
      "outputs": [
        {
          "output_type": "stream",
          "name": "stdout",
          "text": [
            "\n",
            "### Unique Terms in 5 DOCs###\n",
            " | Last | month | Cloud | Speech | introduced | a | new | word-level | timestamps | feature | audio | transcriptions | now | include | the | start | and | end | timestamp | for | each | word | This | opens | up | tons | of | possibilities | developers | can | skip | to | exact | moment | in | an | file | where | was | spoken | , | display | relevant | text | while | is | playing, | or | search | library | specific | term\n"
          ]
        }
      ]
    },
    {
      "cell_type": "code",
      "source": [
        "print (\"\\n###Document terms Collection ###\" )\n",
        "display_dict(get_document_collection_terms(collection))"
      ],
      "metadata": {
        "colab": {
          "base_uri": "https://localhost:8080/"
        },
        "id": "cMErbqi9Lbq9",
        "outputId": "1d092ecd-d93d-4998-e061-7ff94c3a611d"
      },
      "execution_count": 160,
      "outputs": [
        {
          "output_type": "stream",
          "name": "stdout",
          "text": [
            "\n",
            "###Document terms Collection ###\n",
            "\n",
            "\n",
            "doc0  :  ['Last', 'month', 'Cloud', 'Speech', 'introduced', 'a', 'new', 'word-level', 'timestamps', 'feature']\n",
            "doc1  :  ['audio', 'transcriptions', 'now', 'include', 'the', 'start', 'and', 'end', 'timestamp', 'for', 'each', 'word']\n",
            "doc2  :  ['This', 'opens', 'up', 'tons', 'of', 'possibilities']\n",
            "doc3  :  ['developers', 'can', 'now', 'skip', 'to', 'the', 'exact', 'moment', 'in', 'an', 'audio', 'file', 'where', 'a', 'word', 'was', 'spoken']\n",
            "doc4  :  [',', 'display', 'the', 'relevant', 'text', 'while', 'audio', 'is', 'playing,', 'or', 'search', 'a', 'library', 'of', 'for', 'specific', 'term']\n",
            "\n",
            "\n"
          ]
        }
      ]
    },
    {
      "cell_type": "code",
      "source": [
        "def term_document_incidence_matrix(collection):\n",
        "    ## list of terms from the data file collection\n",
        "    terms = get_terms(collection)\n",
        "    #list of unique terms\n",
        "    uique_terms = get_unique_terms(terms)\n",
        "    #Document collection terms\n",
        "    docs_terms=get_document_collection_terms(collection)\n",
        "    #TermDocumentIncidenceMatrix\n",
        "    term_docs_matrix= { }\n",
        "    for term in uique_terms :\n",
        "        vector=[]\n",
        "        for c in docs_terms:\n",
        "            \n",
        "            if term in docs_terms[c]:\n",
        "                vector.append(1)\n",
        "            else :\n",
        "                vector.append(0)\n",
        "                \n",
        "        term_docs_matrix[term]=vector\n",
        "    return term_docs_matrix\n",
        "#this fucntion takes a term and a terms-document incidence matrix and returns the inc\n",
        "#this function just for explanation and display purposes\n",
        "def term_incidence_vector(term,term_docs_incid_matrix):\n",
        "    try:\n",
        "        return term_docs_incid_matrix[term]\n",
        "    except:\n",
        "        return \"term not found\""
      ],
      "metadata": {
        "id": "XJh4lR0qLljU"
      },
      "execution_count": 161,
      "outputs": []
    },
    {
      "cell_type": "code",
      "source": [
        "#build the term-document incidence matrix\n",
        "term_docs_incid_matrix=term_document_incidence_matrix(collection)\n",
        "print(\"Term-Document incidence Matrix\\n\")\n",
        "#formatted Display\n",
        "display_dict(term_docs_incid_matrix)"
      ],
      "metadata": {
        "colab": {
          "base_uri": "https://localhost:8080/"
        },
        "id": "r9goqyksMl11",
        "outputId": "facc1def-b126-4d0a-fa94-ac8778f45063"
      },
      "execution_count": 162,
      "outputs": [
        {
          "output_type": "stream",
          "name": "stdout",
          "text": [
            "Term-Document incidence Matrix\n",
            "\n",
            "\n",
            "\n",
            "Last  :  [1, 0, 0, 0, 0]\n",
            "month  :  [1, 0, 0, 0, 0]\n",
            "Cloud  :  [1, 0, 0, 0, 0]\n",
            "Speech  :  [1, 0, 0, 0, 0]\n",
            "introduced  :  [1, 0, 0, 0, 0]\n",
            "a  :  [1, 0, 0, 1, 1]\n",
            "new  :  [1, 0, 0, 0, 0]\n",
            "word-level  :  [1, 0, 0, 0, 0]\n",
            "timestamps  :  [1, 0, 0, 0, 0]\n",
            "feature  :  [1, 0, 0, 0, 0]\n",
            "audio  :  [0, 1, 0, 1, 1]\n",
            "transcriptions  :  [0, 1, 0, 0, 0]\n",
            "now  :  [0, 1, 0, 1, 0]\n",
            "include  :  [0, 1, 0, 0, 0]\n",
            "the  :  [0, 1, 0, 1, 1]\n",
            "start  :  [0, 1, 0, 0, 0]\n",
            "and  :  [0, 1, 0, 0, 0]\n",
            "end  :  [0, 1, 0, 0, 0]\n",
            "timestamp  :  [0, 1, 0, 0, 0]\n",
            "for  :  [0, 1, 0, 0, 1]\n",
            "each  :  [0, 1, 0, 0, 0]\n",
            "word  :  [0, 1, 0, 1, 0]\n",
            "This  :  [0, 0, 1, 0, 0]\n",
            "opens  :  [0, 0, 1, 0, 0]\n",
            "up  :  [0, 0, 1, 0, 0]\n",
            "tons  :  [0, 0, 1, 0, 0]\n",
            "of  :  [0, 0, 1, 0, 1]\n",
            "possibilities  :  [0, 0, 1, 0, 0]\n",
            "developers  :  [0, 0, 0, 1, 0]\n",
            "can  :  [0, 0, 0, 1, 0]\n",
            "skip  :  [0, 0, 0, 1, 0]\n",
            "to  :  [0, 0, 0, 1, 0]\n",
            "exact  :  [0, 0, 0, 1, 0]\n",
            "moment  :  [0, 0, 0, 1, 0]\n",
            "in  :  [0, 0, 0, 1, 0]\n",
            "an  :  [0, 0, 0, 1, 0]\n",
            "file  :  [0, 0, 0, 1, 0]\n",
            "where  :  [0, 0, 0, 1, 0]\n",
            "was  :  [0, 0, 0, 1, 0]\n",
            "spoken  :  [0, 0, 0, 1, 0]\n",
            ",  :  [0, 0, 0, 0, 1]\n",
            "display  :  [0, 0, 0, 0, 1]\n",
            "relevant  :  [0, 0, 0, 0, 1]\n",
            "text  :  [0, 0, 0, 0, 1]\n",
            "while  :  [0, 0, 0, 0, 1]\n",
            "is  :  [0, 0, 0, 0, 1]\n",
            "playing,  :  [0, 0, 0, 0, 1]\n",
            "or  :  [0, 0, 0, 0, 1]\n",
            "search  :  [0, 0, 0, 0, 1]\n",
            "library  :  [0, 0, 0, 0, 1]\n",
            "specific  :  [0, 0, 0, 0, 1]\n",
            "term  :  [0, 0, 0, 0, 1]\n",
            "\n",
            "\n"
          ]
        }
      ]
    },
    {
      "cell_type": "code",
      "source": [
        "print(\"Incidence Vector of 'playing' \",term_incidence_vector('playing',term_docs_incid_matrix))"
      ],
      "metadata": {
        "colab": {
          "base_uri": "https://localhost:8080/"
        },
        "id": "aoodYxPZj_yN",
        "outputId": "b791b6f5-9f1b-4cd4-bbbe-03e58298da6c"
      },
      "execution_count": 163,
      "outputs": [
        {
          "output_type": "stream",
          "name": "stdout",
          "text": [
            "Incidence Vector of 'playing'  term not found\n"
          ]
        }
      ]
    },
    {
      "cell_type": "code",
      "source": [
        "#Buidling a Boolean retrieval model\n"
      ],
      "metadata": {
        "id": "8EyQyluJXqE2"
      },
      "execution_count": 164,
      "outputs": []
    },
    {
      "cell_type": "code",
      "source": [
        "def query_filteration(query,collection):\n",
        "    terms= get_terms(collection)\n",
        "    unique_terms=get_unique_terms(terms)\n",
        "    qterms=[]\n",
        "    splitted_query=query.split()\n",
        "    for qterm in splitted_query:\n",
        "        if qterm in unique_terms or qterm in boolean_operators:\n",
        "          qterms.append(qterm)\n",
        "    return qterms"
      ],
      "metadata": {
        "id": "aZ3fMUhsXs-x"
      },
      "execution_count": 165,
      "outputs": []
    },
    {
      "cell_type": "code",
      "source": [
        "def boolean_operator_processing(bool_operator,prevV,nextV):\n",
        "    if bool_operator == \"AND\":\n",
        "      return [a & b for a, b in zip(prevV, nextV)]\n",
        "    elif bool_operator==\"OR\" :\n",
        "      return [a | b for a, b in zip(prevV, nextV)]\n",
        "    elif bool_operator == \"NOT\":\n",
        "      return [1-a for a in prevV]"
      ],
      "metadata": {
        "id": "I8ex849CdWP3"
      },
      "execution_count": 166,
      "outputs": []
    },
    {
      "cell_type": "code",
      "source": [
        "query=\"audio AND now AND up\"\n",
        "qterms=query_filteration(query,collection)\n",
        "print(qterms)"
      ],
      "metadata": {
        "colab": {
          "base_uri": "https://localhost:8080/"
        },
        "id": "WVrhwqEQcMVx",
        "outputId": "f361f047-aa16-4c66-f8a7-9113cfe1f3b7"
      },
      "execution_count": 167,
      "outputs": [
        {
          "output_type": "stream",
          "name": "stdout",
          "text": [
            "['audio', 'AND', 'now', 'AND', 'up']\n"
          ]
        }
      ]
    },
    {
      "cell_type": "code",
      "source": [
        "query=\"text and file AND moment\"\n",
        "qterms=query_filteration(query,collection)\n",
        "print(qterms)"
      ],
      "metadata": {
        "colab": {
          "base_uri": "https://localhost:8080/"
        },
        "id": "t83dN4bHcP6e",
        "outputId": "698f33f7-496f-4530-8215-30e5bf844da0"
      },
      "execution_count": 168,
      "outputs": [
        {
          "output_type": "stream",
          "name": "stdout",
          "text": [
            "['text', 'and', 'file', 'AND', 'moment']\n"
          ]
        }
      ]
    },
    {
      "cell_type": "code",
      "source": [
        "v1=term_incidence_vector('display',term_docs_incid_matrix)\n",
        "v2=term_incidence_vector('audio',term_docs_incid_matrix)\n",
        "v3=[]\n",
        "print('v1',v1)\n",
        "print('v2',v2)"
      ],
      "metadata": {
        "colab": {
          "base_uri": "https://localhost:8080/"
        },
        "id": "S61mH-_bceXk",
        "outputId": "64227ac1-5c91-49f5-9272-359585ba704f"
      },
      "execution_count": 169,
      "outputs": [
        {
          "output_type": "stream",
          "name": "stdout",
          "text": [
            "v1 [0, 0, 0, 0, 1]\n",
            "v2 [0, 1, 0, 1, 1]\n"
          ]
        }
      ]
    },
    {
      "cell_type": "code",
      "source": [
        "print(boolean_operator_processing(\"AND\",v1,v2))\n"
      ],
      "metadata": {
        "colab": {
          "base_uri": "https://localhost:8080/"
        },
        "id": "kgn_j8qvdbax",
        "outputId": "37895bce-65c7-41b9-cb01-03329e77b247"
      },
      "execution_count": 170,
      "outputs": [
        {
          "output_type": "stream",
          "name": "stdout",
          "text": [
            "[0, 0, 0, 0, 1]\n"
          ]
        }
      ]
    },
    {
      "cell_type": "code",
      "source": [
        "print(boolean_operator_processing(\"OR\",v1,v2))\n"
      ],
      "metadata": {
        "colab": {
          "base_uri": "https://localhost:8080/"
        },
        "id": "2znyT4l-dece",
        "outputId": "a7828693-1c21-41f8-de69-4c2fe336acc9"
      },
      "execution_count": 171,
      "outputs": [
        {
          "output_type": "stream",
          "name": "stdout",
          "text": [
            "[0, 1, 0, 1, 1]\n"
          ]
        }
      ]
    },
    {
      "cell_type": "code",
      "source": [
        "print(boolean_operator_processing(\"NOT\",v1,v3))\n"
      ],
      "metadata": {
        "colab": {
          "base_uri": "https://localhost:8080/"
        },
        "id": "xQzKLrfUdgB1",
        "outputId": "2bb63aa7-101c-4280-e894-05f63a799327"
      },
      "execution_count": 172,
      "outputs": [
        {
          "output_type": "stream",
          "name": "stdout",
          "text": [
            "[1, 1, 1, 1, 0]\n"
          ]
        }
      ]
    },
    {
      "cell_type": "code",
      "source": [
        "def boolean_retrieval(query,collection):\n",
        "    #build a terms_documents incidence matrix\n",
        "    term_docs_incid_matrix=term_document_incidence_matrix(collection)\n",
        "    bitwiseop=\"\"\n",
        "    #get the query terms\n",
        "    qterms=query_filteration(query,collection)\n",
        "    result=[]\n",
        "    result_set={}\n",
        "    has_previous_term=False\n",
        "    has_not_operation=False\n",
        "    inc_vec_prev=[]\n",
        "    inc_vec_next=[]\n",
        "    for term in qterms :\n",
        "        if term not in boolean_operators:\n",
        "            if  has_not_operation:\n",
        "                if has_previous_term:\n",
        "                    inc_vec_next=boolean_operator_processing(\"NOT\",term_docs_incid_matrix)\n",
        "                else :\n",
        "                    inc_vec_prev=boolean_operator_processing(\"NOT\",term_docs_incid_matrix)\n",
        "                    result=inc_vec_prev\n",
        "                has_not_operation=False\n",
        "                                                            \n",
        "            elif  has_previous_term:\n",
        "                                                            \n",
        "                inc_vec_next=term_docs_incid_matrix[term]\n",
        "            else :\n",
        "                                                            \n",
        "                inc_vec_prev=term_docs_incid_matrix[term]\n",
        "                result= inc_vec_prev\n",
        "                has_previous_term=True\n",
        "                                                            \n",
        "        elif term ==\"NOT\":\n",
        "            has_not_operation=True\n",
        "                                                            \n",
        "        else :\n",
        "            bitwiseop=term\n",
        "                                                            \n",
        "        if  len(inc_vec_next)!= 0 :\n",
        "            result = boolean_operator_processing(bitwiseop,inc_vec_prev,inc_vec_next)\n",
        "            inc_vec_prev=result\n",
        "            has_previous_term=True\n",
        "            inc_vec_next= []\n",
        "                                                            \n",
        "    for i,doc in zip(result,collection):\n",
        "        result_set[doc]=i\n",
        "    return result_set     "
      ],
      "metadata": {
        "id": "XTVydE7VXyOB"
      },
      "execution_count": 173,
      "outputs": []
    },
    {
      "cell_type": "code",
      "source": [
        "collection"
      ],
      "metadata": {
        "colab": {
          "base_uri": "https://localhost:8080/"
        },
        "id": "TNl_FYeuYdMH",
        "outputId": "3b345139-cb39-4347-e480-865d6616ba66"
      },
      "execution_count": 174,
      "outputs": [
        {
          "output_type": "execute_result",
          "data": {
            "text/plain": [
              "{'doc0': 'Last month Cloud Speech introduced a new word-level timestamps feature',\n",
              " 'doc1': 'audio transcriptions now include the start and end timestamp for each word',\n",
              " 'doc2': 'This opens up tons of possibilities',\n",
              " 'doc3': 'developers can now skip to the exact moment in an audio file where a word was spoken',\n",
              " 'doc4': ', display the relevant text while audio is playing, or search a library of audio for a specific term'}"
            ]
          },
          "metadata": {},
          "execution_count": 174
        }
      ]
    },
    {
      "cell_type": "code",
      "source": [
        "query1 = \"Cloud OR Timestamp OR Audio\"\n",
        "print(\"query1 boolean retrieval \",boolean_retrieval(query1,collection))"
      ],
      "metadata": {
        "colab": {
          "base_uri": "https://localhost:8080/"
        },
        "id": "zcwTj9_jYfgZ",
        "outputId": "51921c70-11af-4161-cd90-c67ac74fe92f"
      },
      "execution_count": 175,
      "outputs": [
        {
          "output_type": "stream",
          "name": "stdout",
          "text": [
            "query1 boolean retrieval  {'doc0': 1, 'doc1': 0, 'doc2': 0, 'doc3': 0, 'doc4': 0}\n"
          ]
        }
      ]
    },
    {
      "cell_type": "code",
      "source": [
        "query2 = \"Audio AND Term\"\n",
        "print(\"query2 boolean retrieval \",boolean_retrieval(query2,collection))"
      ],
      "metadata": {
        "colab": {
          "base_uri": "https://localhost:8080/"
        },
        "id": "dY4X1xT8Yp6J",
        "outputId": "4391c7db-bf06-4f50-8347-f1074e66cd64"
      },
      "execution_count": 176,
      "outputs": [
        {
          "output_type": "stream",
          "name": "stdout",
          "text": [
            "query2 boolean retrieval  {}\n"
          ]
        }
      ]
    },
    {
      "cell_type": "code",
      "source": [
        "query3 = \"Cloud AND NOT Audio\"\n",
        "print(\"query3 boolean retrieval \",boolean_retrieval(query3,collection))"
      ],
      "metadata": {
        "colab": {
          "base_uri": "https://localhost:8080/"
        },
        "id": "c6pew_wgZBkm",
        "outputId": "43de3f0b-62be-4965-c893-5cf9e3907f49"
      },
      "execution_count": 177,
      "outputs": [
        {
          "output_type": "stream",
          "name": "stdout",
          "text": [
            "query3 boolean retrieval  {'doc0': 1, 'doc1': 0, 'doc2': 0, 'doc3': 0, 'doc4': 0}\n"
          ]
        }
      ]
    },
    {
      "cell_type": "code",
      "source": [],
      "metadata": {
        "id": "av-NblHUa_LO"
      },
      "execution_count": 177,
      "outputs": []
    }
  ]
}
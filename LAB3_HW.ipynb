{
  "nbformat": 4,
  "nbformat_minor": 0,
  "metadata": {
    "colab": {
      "provenance": []
    },
    "kernelspec": {
      "name": "python3",
      "display_name": "Python 3"
    },
    "language_info": {
      "name": "python"
    }
  },
  "cells": [
    {
      "cell_type": "code",
      "execution_count": 1,
      "metadata": {
        "id": "JHJjUhcAh70I"
      },
      "outputs": [],
      "source": [
        "import re\n"
      ]
    },
    {
      "cell_type": "code",
      "source": [
        "txt = \"Regular expression is a sequence of character(s) mainly used to find and replace patterns in a string or file\""
      ],
      "metadata": {
        "id": "A-ByB925iQ_A"
      },
      "execution_count": 2,
      "outputs": []
    },
    {
      "cell_type": "code",
      "source": [
        "x = re.findall(\"^Regular\", txt)\n",
        "x = re.findall(\"file$\", txt)\n",
        "if x:\n",
        "  print(txt)\n",
        "else:\n",
        "  print(\"No match\")"
      ],
      "metadata": {
        "colab": {
          "base_uri": "https://localhost:8080/"
        },
        "id": "aADZBDB-iVh5",
        "outputId": "4abd5039-eaf1-464f-fe93-cfbaf33e6532"
      },
      "execution_count": 3,
      "outputs": [
        {
          "output_type": "stream",
          "name": "stdout",
          "text": [
            "Regular expression is a sequence of character(s) mainly used to find and replace patterns in a string or file\n"
          ]
        }
      ]
    },
    {
      "cell_type": "code",
      "source": [
        "replacement_patterns = [ \n",
        "(r'won\\'t', 'will not'), \n",
        "(r'can\\’t', 'cannot'), \n",
        "(r'i\\'m', 'i am'), \n",
        "(r'ain\\'t', 'is not'), \n",
        "(r'(\\w+)\\'ll', '\\g<1> will'), \n",
        "(r'(\\w+)n\\'t', '\\g<1> not'), \n",
        "(r'(\\w+)\\'ve', '\\g<1> have'), \n",
        "(r'(\\w+)\\'s', '\\g<1> is'), \n",
        "(r'(\\w+)\\'re', '\\g<1> are'), \n",
        "(r'(\\w+)\\'d', '\\g<1> would')]"
      ],
      "metadata": {
        "id": "ztpRzRmjibTa"
      },
      "execution_count": 4,
      "outputs": []
    },
    {
      "cell_type": "code",
      "source": [
        "class RegexpReplacer:    \n",
        "    \n",
        "    def __init__(self, patterns=replacement_patterns): \n",
        "        self.patterns = [(re.compile(regex), repl) for (regex, repl)in patterns] \n",
        "    \n",
        "    def replace(self, text): \n",
        "        s = text \n",
        "        for (pattern, repl) in self.patterns: \n",
        "            (s, count) = re.subn(pattern, repl, s) \n",
        "        return s"
      ],
      "metadata": {
        "id": "W9wgMR9linY9"
      },
      "execution_count": 5,
      "outputs": []
    },
    {
      "cell_type": "code",
      "source": [
        "Sentence1=\"We'll see how to replace words using regular expressions such doesn't, can’t and so on\"\n"
      ],
      "metadata": {
        "id": "3A1yzAZOiyLI"
      },
      "execution_count": 6,
      "outputs": []
    },
    {
      "cell_type": "code",
      "source": [
        "b = RegexpReplacer(replacement_patterns)\n"
      ],
      "metadata": {
        "id": "3f4_ijP4i34M"
      },
      "execution_count": 7,
      "outputs": []
    },
    {
      "cell_type": "code",
      "source": [
        "x = b.replace(Sentence1)\n",
        "x"
      ],
      "metadata": {
        "colab": {
          "base_uri": "https://localhost:8080/",
          "height": 35
        },
        "id": "W7JGiH40i5hW",
        "outputId": "5de7195e-05d4-4784-ef23-4694c773a2d1"
      },
      "execution_count": 8,
      "outputs": [
        {
          "output_type": "execute_result",
          "data": {
            "text/plain": [
              "'We will see how to replace words using regular expressions such does not, cannot and so on'"
            ],
            "application/vnd.google.colaboratory.intrinsic+json": {
              "type": "string"
            }
          },
          "metadata": {},
          "execution_count": 8
        }
      ]
    },
    {
      "cell_type": "code",
      "source": [
        "class RepeatReplacer(object): \n",
        "    \n",
        "    def __init__(self): \n",
        "        self.repeat_regexp = re.compile(r'(\\w*)(\\w)\\2(\\w*)') \n",
        "        self.repl = r'\\1\\2\\3'\n",
        "            \n",
        "        \n",
        "    def replace(self, word): \n",
        "        repl_word = self.repeat_regexp.sub(self.repl, word) \n",
        "        if repl_word != word: \n",
        "            return self.replace(repl_word) \n",
        "        else: \n",
        "            return repl_word"
      ],
      "metadata": {
        "id": "2aiDs0aMjCgt"
      },
      "execution_count": 9,
      "outputs": []
    },
    {
      "cell_type": "code",
      "source": [
        "Sentence = \"We likkkkkke python\" \n"
      ],
      "metadata": {
        "id": "B8WK7JNSjHQk"
      },
      "execution_count": 10,
      "outputs": []
    },
    {
      "cell_type": "code",
      "source": [
        "v = RepeatReplacer()\n"
      ],
      "metadata": {
        "id": "lrjfiDtMjJqJ"
      },
      "execution_count": 11,
      "outputs": []
    },
    {
      "cell_type": "code",
      "source": [
        "z = v.replace(Sentence)\n",
        "z"
      ],
      "metadata": {
        "colab": {
          "base_uri": "https://localhost:8080/",
          "height": 35
        },
        "id": "By9PBdXxjLbT",
        "outputId": "99db2c1a-570a-47a9-9131-2e0f44088d7e"
      },
      "execution_count": 12,
      "outputs": [
        {
          "output_type": "execute_result",
          "data": {
            "text/plain": [
              "'We like python'"
            ],
            "application/vnd.google.colaboratory.intrinsic+json": {
              "type": "string"
            }
          },
          "metadata": {},
          "execution_count": 12
        }
      ]
    },
    {
      "cell_type": "code",
      "source": [],
      "metadata": {
        "id": "eF70VSpXjNHG"
      },
      "execution_count": null,
      "outputs": []
    }
  ]
}
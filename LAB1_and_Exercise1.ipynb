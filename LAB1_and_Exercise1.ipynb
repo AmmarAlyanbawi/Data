{
  "cells": [
    {
      "cell_type": "code",
      "execution_count": 45,
      "metadata": {
        "id": "3Vk5FMZN50Op",
        "colab": {
          "base_uri": "https://localhost:8080/"
        },
        "outputId": "17dedd51-946c-420c-f3cc-fe43ddcc9264"
      },
      "outputs": [
        {
          "output_type": "execute_result",
          "data": {
            "text/plain": [
              "{'doc0': 'Welcom to our first lab session',\n",
              " 'doc1': 'In this lab, you will lean more about Term Document Incidence Matrix',\n",
              " 'doc2': 'You will also learn how to visualize it',\n",
              " 'doc3': 'Hope you enjoy learning it'}"
            ]
          },
          "metadata": {},
          "execution_count": 45
        }
      ],
      "source": [
        "d0 = \"Welcom to our first lab session\"\n",
        "d1 = \"In this lab, you will lean more about Term Document Incidence Matrix\"\n",
        "d2 = \"You will also learn how to visualize it\"\n",
        "d3 = \"Hope you enjoy learning it\"\n",
        "\n",
        "collection = {\"doc0\": d0,\n",
        "\"doc1\": d1,\n",
        "\"doc2\": d2,\n",
        "\"doc3\": d3}\n",
        "collection"
      ]
    },
    {
      "cell_type": "code",
      "execution_count": 46,
      "metadata": {
        "id": "IAsYZ5GadHBU"
      },
      "outputs": [],
      "source": [
        "boolean_operators = {'AND', 'OR', 'NOT'}"
      ]
    },
    {
      "cell_type": "code",
      "execution_count": 47,
      "metadata": {
        "id": "Bd8d5P17dJrQ"
      },
      "outputs": [],
      "source": [
        "def get_terms (data):\n",
        "    terms=[]\n",
        "    for doc in data:\n",
        "        for term in data[doc].split() :\n",
        "            terms.append(term)\n",
        "    return terms"
      ]
    },
    {
      "cell_type": "code",
      "execution_count": 48,
      "metadata": {
        "id": "94awbmP5dNLH"
      },
      "outputs": [],
      "source": [
        "def get_unique_terms(terms):\n",
        "    unique_terms=[]\n",
        "    for d in terms :\n",
        "        if d not in unique_terms:\n",
        "            unique_terms.append(d)\n",
        "    return unique_terms"
      ]
    },
    {
      "cell_type": "code",
      "execution_count": 49,
      "metadata": {
        "id": "L8qEGHbNdij1"
      },
      "outputs": [],
      "source": [
        "def get_document_collection_terms(data):\n",
        "    docs_colllection={}\n",
        "    for doc in data:\n",
        "        if doc not in boolean_operators :\n",
        "            docs_colllection[doc]=get_unique_terms(data[doc].split())\n",
        "    return docs_colllection"
      ]
    },
    {
      "cell_type": "code",
      "execution_count": 50,
      "metadata": {
        "id": "gdpX_sj1d48I"
      },
      "outputs": [],
      "source": [
        "def display_dict(dic):\n",
        "    print(\"\\n\")\n",
        "    for i in dic:\n",
        "        print (i , \" : \" ,dic[i])\n",
        "    print(\"\\n\")\n"
      ]
    },
    {
      "cell_type": "code",
      "execution_count": 51,
      "metadata": {
        "colab": {
          "base_uri": "https://localhost:8080/"
        },
        "id": "3q8CWLJud9rc",
        "outputId": "3e5bf0e7-186e-404c-c070-f666dd21d124"
      },
      "outputs": [
        {
          "output_type": "stream",
          "name": "stdout",
          "text": [
            "### documents content ###\n",
            "\n",
            "\n",
            "doc0  :  Welcom to our first lab session\n",
            "doc1  :  In this lab, you will lean more about Term Document Incidence Matrix\n",
            "doc2  :  You will also learn how to visualize it\n",
            "doc3  :  Hope you enjoy learning it\n",
            "\n",
            "\n"
          ]
        }
      ],
      "source": [
        "print(\"### documents content ###\")\n",
        "display_dict(collection)"
      ]
    },
    {
      "cell_type": "code",
      "execution_count": 52,
      "metadata": {
        "colab": {
          "base_uri": "https://localhost:8080/"
        },
        "id": "s54xYI36eBrI",
        "outputId": "052d6359-8fe9-4e87-9295-abf0fb7b328b"
      },
      "outputs": [
        {
          "output_type": "stream",
          "name": "stdout",
          "text": [
            "\n",
            "### Terms in all docs ###\n",
            " \n",
            " Welcom \n",
            " to \n",
            " our \n",
            " first \n",
            " lab \n",
            " session \n",
            " In \n",
            " this \n",
            " lab, \n",
            " you \n",
            " will \n",
            " lean \n",
            " more \n",
            " about \n",
            " Term \n",
            " Document \n",
            " Incidence \n",
            " Matrix \n",
            " You \n",
            " will \n",
            " also \n",
            " learn \n",
            " how \n",
            " to \n",
            " visualize \n",
            " it \n",
            " Hope \n",
            " you \n",
            " enjoy \n",
            " learning \n",
            " it\n"
          ]
        }
      ],
      "source": [
        "print (\"\\n### Terms in all docs ###\\n\" , *get_terms(collection) ,sep= \" \\n \")"
      ]
    },
    {
      "cell_type": "code",
      "execution_count": 53,
      "metadata": {
        "colab": {
          "base_uri": "https://localhost:8080/"
        },
        "id": "c_MwNNq3e982",
        "outputId": "bd783c98-32d7-441c-d6de-500587494e83"
      },
      "outputs": [
        {
          "output_type": "stream",
          "name": "stdout",
          "text": [
            "\n",
            "### Unique Terms in 5 DOCs###\n",
            " | Welcom | to | our | first | lab | session | In | this | lab, | you | will | lean | more | about | Term | Document | Incidence | Matrix | You | also | learn | how | visualize | it | Hope | enjoy | learning\n"
          ]
        }
      ],
      "source": [
        "terms=get_terms(collection)\n",
        "print (\"\\n### Unique Terms in 5 DOCs###\\n\", *get_unique_terms(terms) ,sep=\" | \")"
      ]
    },
    {
      "cell_type": "code",
      "execution_count": 54,
      "metadata": {
        "colab": {
          "base_uri": "https://localhost:8080/"
        },
        "id": "R0bWQR_nhPu4",
        "outputId": "2c2a97b3-f202-4b8d-a7eb-46596af32d4d"
      },
      "outputs": [
        {
          "output_type": "stream",
          "name": "stdout",
          "text": [
            "\n",
            "###Document terms Collection ###\n",
            "\n",
            "\n",
            "doc0  :  ['Welcom', 'to', 'our', 'first', 'lab', 'session']\n",
            "doc1  :  ['In', 'this', 'lab,', 'you', 'will', 'lean', 'more', 'about', 'Term', 'Document', 'Incidence', 'Matrix']\n",
            "doc2  :  ['You', 'will', 'also', 'learn', 'how', 'to', 'visualize', 'it']\n",
            "doc3  :  ['Hope', 'you', 'enjoy', 'learning', 'it']\n",
            "\n",
            "\n"
          ]
        }
      ],
      "source": [
        "print (\"\\n###Document terms Collection ###\" )\n",
        "display_dict(get_document_collection_terms(collection))"
      ]
    },
    {
      "cell_type": "code",
      "execution_count": 55,
      "metadata": {
        "id": "t83We6nXi3tg"
      },
      "outputs": [],
      "source": [
        "def term_document_incidence_matrix(collection):\n",
        "    ## list of terms from the data file collection\n",
        "    terms = get_terms(collection)\n",
        "    #list of unique terms\n",
        "    uique_terms = get_unique_terms(terms)\n",
        "    #Document collection terms\n",
        "    docs_terms=get_document_collection_terms(collection)\n",
        "    #TermDocumentIncidenceMatrix\n",
        "    term_docs_matrix= { }\n",
        "    for term in uique_terms :\n",
        "        vector=[]\n",
        "        for c in docs_terms:\n",
        "            \n",
        "            if term in docs_terms[c]:\n",
        "                vector.append(1)\n",
        "            else :\n",
        "                vector.append(0)\n",
        "                \n",
        "        term_docs_matrix[term]=vector\n",
        "    return term_docs_matrix\n",
        "#this fucntion takes a term and a terms-document incidence matrix and returns the inc\n",
        "#this function just for explanation and display purposes\n",
        "def term_incidence_vector(term,term_docs_incid_matrix):\n",
        "    try:\n",
        "        return term_docs_incid_matrix[term]\n",
        "    except:\n",
        "        return \"term not found\""
      ]
    },
    {
      "cell_type": "code",
      "execution_count": 56,
      "metadata": {
        "colab": {
          "base_uri": "https://localhost:8080/"
        },
        "id": "HUh5YDJIjbIA",
        "outputId": "3cbc1697-f0e4-434a-eb14-bcfcf213bf86"
      },
      "outputs": [
        {
          "output_type": "stream",
          "name": "stdout",
          "text": [
            "Term-Document incidence Matrix\n",
            "\n",
            "\n",
            "\n",
            "Welcom  :  [1, 0, 0, 0]\n",
            "to  :  [1, 0, 1, 0]\n",
            "our  :  [1, 0, 0, 0]\n",
            "first  :  [1, 0, 0, 0]\n",
            "lab  :  [1, 0, 0, 0]\n",
            "session  :  [1, 0, 0, 0]\n",
            "In  :  [0, 1, 0, 0]\n",
            "this  :  [0, 1, 0, 0]\n",
            "lab,  :  [0, 1, 0, 0]\n",
            "you  :  [0, 1, 0, 1]\n",
            "will  :  [0, 1, 1, 0]\n",
            "lean  :  [0, 1, 0, 0]\n",
            "more  :  [0, 1, 0, 0]\n",
            "about  :  [0, 1, 0, 0]\n",
            "Term  :  [0, 1, 0, 0]\n",
            "Document  :  [0, 1, 0, 0]\n",
            "Incidence  :  [0, 1, 0, 0]\n",
            "Matrix  :  [0, 1, 0, 0]\n",
            "You  :  [0, 0, 1, 0]\n",
            "also  :  [0, 0, 1, 0]\n",
            "learn  :  [0, 0, 1, 0]\n",
            "how  :  [0, 0, 1, 0]\n",
            "visualize  :  [0, 0, 1, 0]\n",
            "it  :  [0, 0, 1, 1]\n",
            "Hope  :  [0, 0, 0, 1]\n",
            "enjoy  :  [0, 0, 0, 1]\n",
            "learning  :  [0, 0, 0, 1]\n",
            "\n",
            "\n"
          ]
        }
      ],
      "source": [
        "#build the term-document incidence matrix\n",
        "term_docs_incid_matrix=term_document_incidence_matrix(collection)\n",
        "print(\"Term-Document incidence Matrix\\n\")\n",
        "#formatted Display\n",
        "display_dict(term_docs_incid_matrix)"
      ]
    },
    {
      "cell_type": "code",
      "execution_count": 57,
      "metadata": {
        "colab": {
          "base_uri": "https://localhost:8080/"
        },
        "id": "aoodYxPZj_yN",
        "outputId": "51a1a258-6816-4df0-a517-5c70199e4f02"
      },
      "outputs": [
        {
          "output_type": "stream",
          "name": "stdout",
          "text": [
            "Incidence Vector of 'Matrix'  [0, 1, 0, 0]\n"
          ]
        }
      ],
      "source": [
        "print(\"Incidence Vector of 'Matrix' \",term_incidence_vector('Matrix',term_docs_incid_matrix))"
      ]
    },
    {
      "cell_type": "code",
      "execution_count": 58,
      "metadata": {
        "id": "MkA-LvN1kRiL"
      },
      "outputs": [],
      "source": [
        "#Buidling a Boolean retrieval model\n"
      ]
    },
    {
      "cell_type": "code",
      "execution_count": 59,
      "metadata": {
        "id": "A5qWle8OwHX6"
      },
      "outputs": [],
      "source": [
        "def query_filteration(query,collection):\n",
        "    terms= get_terms(collection)\n",
        "    unique_terms=get_unique_terms(terms)\n",
        "    qterms=[]\n",
        "    splitted_query=query.split()\n",
        "    for qterm in splitted_query:\n",
        "        if qterm in unique_terms or qterm in boolean_operators:\n",
        "          qterms.append(qterm)\n",
        "    return qterms"
      ]
    },
    {
      "cell_type": "code",
      "execution_count": 60,
      "metadata": {
        "colab": {
          "base_uri": "https://localhost:8080/"
        },
        "id": "aMgDkiaxwLzo",
        "outputId": "44d7a1dd-9aa4-4f7d-e55e-9ab06e3ebac0"
      },
      "outputs": [
        {
          "output_type": "stream",
          "name": "stdout",
          "text": [
            "['learn', 'AND', 'Matrix', 'AND', 'you']\n"
          ]
        }
      ],
      "source": [
        "query=\"learn AND Matrix AND you\"\n",
        "qterms=query_filteration(query,collection)\n",
        "print(qterms)"
      ]
    },
    {
      "cell_type": "code",
      "execution_count": 61,
      "metadata": {
        "colab": {
          "base_uri": "https://localhost:8080/"
        },
        "id": "PPKIBKO8wOyr",
        "outputId": "4a78e835-f1ab-4e77-81f6-0fd27317e114"
      },
      "outputs": [
        {
          "output_type": "stream",
          "name": "stdout",
          "text": [
            "['learn', 'Matrix', 'AND']\n"
          ]
        }
      ],
      "source": [
        "query=\"learn and Matrix AND Taibah\"\n",
        "qterms=query_filteration(query,collection)\n",
        "print(qterms)"
      ]
    },
    {
      "cell_type": "code",
      "execution_count": 62,
      "metadata": {
        "id": "sq1k9QDdwVQZ"
      },
      "outputs": [],
      "source": [
        "def boolean_operator_processing(bool_operator,prevV,nextV):\n",
        "    if bool_operator == \"AND\":\n",
        "      return [a & b for a, b in zip(prevV, nextV)]\n",
        "    elif bool_operator==\"OR\" :\n",
        "      return [a | b for a, b in zip(prevV, nextV)]\n",
        "    elif bool_operator == \"NOT\":\n",
        "      return [1-a for a in prevV]"
      ]
    },
    {
      "cell_type": "code",
      "execution_count": 63,
      "metadata": {
        "colab": {
          "base_uri": "https://localhost:8080/"
        },
        "id": "9eq4Fb_CwY_1",
        "outputId": "dcff7132-31d2-4855-d93c-e9139f263b0d"
      },
      "outputs": [
        {
          "output_type": "stream",
          "name": "stdout",
          "text": [
            "v1 [0, 0, 1, 0]\n",
            "v2 [0, 1, 0, 0]\n"
          ]
        }
      ],
      "source": [
        "v1=term_incidence_vector('learn',term_docs_incid_matrix)\n",
        "v2=term_incidence_vector('Matrix',term_docs_incid_matrix)\n",
        "v3=[]\n",
        "print('v1',v1)\n",
        "print('v2',v2)"
      ]
    },
    {
      "cell_type": "code",
      "execution_count": 64,
      "metadata": {
        "colab": {
          "base_uri": "https://localhost:8080/"
        },
        "id": "Gh1yL603wbsI",
        "outputId": "29bf3a95-8ddd-4ae9-b26f-6dc0ecb39b26"
      },
      "outputs": [
        {
          "output_type": "stream",
          "name": "stdout",
          "text": [
            "[0, 0, 0, 0]\n"
          ]
        }
      ],
      "source": [
        "print(boolean_operator_processing(\"AND\",v1,v2))\n"
      ]
    },
    {
      "cell_type": "code",
      "execution_count": 65,
      "metadata": {
        "colab": {
          "base_uri": "https://localhost:8080/"
        },
        "id": "e48D4SMvweX5",
        "outputId": "9fb8fe8a-4e43-41f0-f9bf-744aa60e8caa"
      },
      "outputs": [
        {
          "output_type": "stream",
          "name": "stdout",
          "text": [
            "[0, 1, 1, 0]\n"
          ]
        }
      ],
      "source": [
        "print(boolean_operator_processing(\"OR\",v1,v2))\n"
      ]
    },
    {
      "cell_type": "code",
      "execution_count": 66,
      "metadata": {
        "colab": {
          "base_uri": "https://localhost:8080/"
        },
        "id": "DfHIc3-OwiBn",
        "outputId": "06a3962d-c192-4dde-efab-f8ae0d99c21c"
      },
      "outputs": [
        {
          "output_type": "stream",
          "name": "stdout",
          "text": [
            "[1, 1, 0, 1]\n"
          ]
        }
      ],
      "source": [
        "print(boolean_operator_processing(\"NOT\",v1,v3))\n"
      ]
    },
    {
      "cell_type": "code",
      "execution_count": 67,
      "metadata": {
        "id": "hbF4Cdj0wkPD"
      },
      "outputs": [],
      "source": [
        "def boolean_retrieval(query,collection):\n",
        "    #build a terms_documents incidence matrix\n",
        "    term_docs_incid_matrix=term_document_incidence_matrix(collection)\n",
        "    bitwiseop=\"\"\n",
        "    #get the query terms\n",
        "    qterms=query_filteration(query,collection)\n",
        "    result=[]\n",
        "    result_set={}\n",
        "    has_previous_term=False\n",
        "    has_not_operation=False\n",
        "    inc_vec_prev=[]\n",
        "    inc_vec_next=[]\n",
        "    for term in qterms :\n",
        "        if term not in boolean_operators:\n",
        "            if  has_not_operation:\n",
        "                if has_previous_term:\n",
        "                    inc_vec_next=boolean_operator_processing(\"NOT\",term_docs_incid_matrix)\n",
        "                else :\n",
        "                    inc_vec_prev=boolean_operator_processing(\"NOT\",term_docs_incid_matrix)\n",
        "                    result=inc_vec_prev\n",
        "                has_not_operation=False\n",
        "                                                            \n",
        "            elif  has_previous_term:\n",
        "                                                            \n",
        "                inc_vec_next=term_docs_incid_matrix[term]\n",
        "            else :\n",
        "                                                            \n",
        "                inc_vec_prev=term_docs_incid_matrix[term]\n",
        "                result= inc_vec_prev\n",
        "                has_previous_term=True\n",
        "                                                            \n",
        "        elif term ==\"NOT\":\n",
        "            has_not_operation=True\n",
        "                                                            \n",
        "        else :\n",
        "            bitwiseop=term\n",
        "                                                            \n",
        "        if  len(inc_vec_next)!= 0 :\n",
        "            result = boolean_operator_processing(bitwiseop,inc_vec_prev,inc_vec_next)\n",
        "            inc_vec_prev=result\n",
        "            has_previous_term=True\n",
        "            inc_vec_next= []\n",
        "                                                            \n",
        "    for i,doc in zip(result,collection):\n",
        "        result_set[doc]=i\n",
        "    return result_set     "
      ]
    },
    {
      "cell_type": "code",
      "execution_count": 68,
      "metadata": {
        "colab": {
          "base_uri": "https://localhost:8080/"
        },
        "id": "VNmFVukhwpf1",
        "outputId": "653a22c3-16a8-4998-ddb8-4656569a2b8f"
      },
      "outputs": [
        {
          "output_type": "execute_result",
          "data": {
            "text/plain": [
              "{'doc0': 'Welcom to our first lab session',\n",
              " 'doc1': 'In this lab, you will lean more about Term Document Incidence Matrix',\n",
              " 'doc2': 'You will also learn how to visualize it',\n",
              " 'doc3': 'Hope you enjoy learning it'}"
            ]
          },
          "metadata": {},
          "execution_count": 68
        }
      ],
      "source": [
        "collection"
      ]
    },
    {
      "cell_type": "code",
      "execution_count": 69,
      "metadata": {
        "colab": {
          "base_uri": "https://localhost:8080/"
        },
        "id": "GXAmiX-iw0J5",
        "outputId": "50c87886-e9f4-41aa-c42a-ea2f54c0751d"
      },
      "outputs": [
        {
          "output_type": "stream",
          "name": "stdout",
          "text": [
            "query1 boolean retrieval  {'doc0': 1, 'doc1': 1, 'doc2': 1, 'doc3': 0}\n"
          ]
        }
      ],
      "source": [
        "query1 = \" Document OR lab OR learn\"\n",
        "print(\"query1 boolean retrieval \",boolean_retrieval(query1,collection))\n"
      ]
    },
    {
      "cell_type": "code",
      "execution_count": 70,
      "metadata": {
        "colab": {
          "base_uri": "https://localhost:8080/"
        },
        "id": "boynkED_w3Of",
        "outputId": "835f2381-538c-4aa9-e688-179ed40c2cda"
      },
      "outputs": [
        {
          "output_type": "execute_result",
          "data": {
            "text/plain": [
              "[0, 1, 0, 0]"
            ]
          },
          "metadata": {},
          "execution_count": 70
        }
      ],
      "source": [
        "v1=term_incidence_vector(\"Document\",term_docs_incid_matrix)\n",
        "v1"
      ]
    },
    {
      "cell_type": "code",
      "execution_count": 71,
      "metadata": {
        "colab": {
          "base_uri": "https://localhost:8080/"
        },
        "id": "So_d5zp4w5wm",
        "outputId": "c756e90d-482e-48e6-c04f-8343a89f8206"
      },
      "outputs": [
        {
          "output_type": "execute_result",
          "data": {
            "text/plain": [
              "[1, 0, 0, 0]"
            ]
          },
          "metadata": {},
          "execution_count": 71
        }
      ],
      "source": [
        "v2=term_incidence_vector(\"lab\",term_docs_incid_matrix)\n",
        "v2"
      ]
    },
    {
      "cell_type": "code",
      "execution_count": 72,
      "metadata": {
        "colab": {
          "base_uri": "https://localhost:8080/"
        },
        "id": "bBAfhyAdw7yp",
        "outputId": "fead249d-bb88-4915-f1c9-f7ad5b671aa5"
      },
      "outputs": [
        {
          "output_type": "execute_result",
          "data": {
            "text/plain": [
              "[1, 1, 0, 0]"
            ]
          },
          "metadata": {},
          "execution_count": 72
        }
      ],
      "source": [
        "Qpart1=boolean_operator_processing(\"OR\",v1,v2)\n",
        "Qpart1"
      ]
    },
    {
      "cell_type": "code",
      "execution_count": 73,
      "metadata": {
        "colab": {
          "base_uri": "https://localhost:8080/"
        },
        "id": "aZcRqeBIw_Ye",
        "outputId": "79f6e9b4-57d1-4b50-e0a0-4e538166e2cd"
      },
      "outputs": [
        {
          "output_type": "execute_result",
          "data": {
            "text/plain": [
              "[0, 0, 1, 0]"
            ]
          },
          "metadata": {},
          "execution_count": 73
        }
      ],
      "source": [
        "v3=term_incidence_vector(\"learn\",term_docs_incid_matrix)\n",
        "v3"
      ]
    },
    {
      "cell_type": "code",
      "execution_count": 74,
      "metadata": {
        "colab": {
          "base_uri": "https://localhost:8080/"
        },
        "id": "w7cE-iMzxBtU",
        "outputId": "8876251e-2ed3-402c-d28b-9707d02f0633"
      },
      "outputs": [
        {
          "output_type": "execute_result",
          "data": {
            "text/plain": [
              "[1, 1, 1, 0]"
            ]
          },
          "metadata": {},
          "execution_count": 74
        }
      ],
      "source": [
        "boolean_operator_processing(\"OR\",Qpart1,v3)\n"
      ]
    },
    {
      "cell_type": "code",
      "execution_count": 75,
      "metadata": {
        "colab": {
          "base_uri": "https://localhost:8080/"
        },
        "id": "04TuwBp3xDzM",
        "outputId": "9fca86fa-c0d1-406c-846a-6d22eb44e1e8"
      },
      "outputs": [
        {
          "output_type": "execute_result",
          "data": {
            "text/plain": [
              "{'doc0': 'Welcom to our first lab session',\n",
              " 'doc1': 'In this lab, you will lean more about Term Document Incidence Matrix',\n",
              " 'doc2': 'You will also learn how to visualize it',\n",
              " 'doc3': 'Hope you enjoy learning it'}"
            ]
          },
          "metadata": {},
          "execution_count": 75
        }
      ],
      "source": [
        "collection"
      ]
    },
    {
      "cell_type": "code",
      "execution_count": 76,
      "metadata": {
        "colab": {
          "base_uri": "https://localhost:8080/"
        },
        "id": "2RdiO5EW2fRR",
        "outputId": "2c07d802-345d-459e-f75f-8b47e630486e"
      },
      "outputs": [
        {
          "output_type": "stream",
          "name": "stdout",
          "text": [
            "query2 boolean retrieval  {'doc0': 0, 'doc1': 1, 'doc2': 0, 'doc3': 0}\n"
          ]
        }
      ],
      "source": [
        "query2 = \"lean AND Matrix AND NOT Lab\"\n",
        "print(\"query2 boolean retrieval \",boolean_retrieval(query2,collection))"
      ]
    },
    {
      "cell_type": "code",
      "execution_count": 77,
      "metadata": {
        "id": "0kc57u5S2g1p"
      },
      "outputs": [],
      "source": [
        "#Exercise1"
      ]
    },
    {
      "cell_type": "code",
      "execution_count": 78,
      "metadata": {
        "colab": {
          "base_uri": "https://localhost:8080/"
        },
        "id": "CnPIZCIvXOY2",
        "outputId": "84afcd10-5a18-41d8-f92b-0aacb7be53a4"
      },
      "outputs": [
        {
          "output_type": "stream",
          "name": "stdout",
          "text": [
            "query3 boolean retrieval  {'doc0': 0, 'doc1': 1, 'doc2': 0, 'doc3': 0}\n"
          ]
        }
      ],
      "source": [
        "query3 = \"Matrix AND Lab AND NOT Visualize\"\n",
        "print(\"query3 boolean retrieval \",boolean_retrieval(query3,collection))"
      ]
    }
  ],
  "metadata": {
    "colab": {
      "provenance": []
    },
    "kernelspec": {
      "display_name": "Python 3",
      "name": "python3"
    },
    "language_info": {
      "name": "python"
    }
  },
  "nbformat": 4,
  "nbformat_minor": 0
}